{
 "cells": [
  {
   "cell_type": "code",
   "execution_count": 1,
   "metadata": {},
   "outputs": [
    {
     "data": {
      "text/plain": [
       "idct2 (generic function with 1 method)"
      ]
     },
     "execution_count": 1,
     "metadata": {},
     "output_type": "execute_result"
    }
   ],
   "source": [
    "# todo: demonstrate the FFT version of this that we'll actually use in hardware\n",
    "costable = [cos((2x+1)*u*pi/16) for x=0:7, u=0:7]\n",
    "\n",
    "function dct2_scale(v, u)\n",
    "    m = u == 0 ? 1/sqrt(2) : 1\n",
    "    m *= v == 0 ? 1/sqrt(2) : 1\n",
    "end\n",
    "\n",
    "function dct2(s)\n",
    "    [1/4 * dct2_scale(v,u) * \n",
    "        sum(Int8(s[y+1,x+1]*255 - 128) * costable[x+1,u+1] * costable[y+1,v+1] \n",
    "            for x=0:7, y=0:7) for v=0:7, u=0:7]\n",
    "end\n",
    "\n",
    "function idct2(S)\n",
    "    [1/4 * \n",
    "        sum(dct2_scale(v, u) * S[v+1,u+1]\n",
    "            * costable[x+1,u+1] * costable[y+1,v+1]\n",
    "            for u=0:7, v=0:7)\n",
    "    for y=0:7, x=0:7]\n",
    "end"
   ]
  },
  {
   "cell_type": "code",
   "execution_count": 2,
   "metadata": {},
   "outputs": [
    {
     "data": {
      "text/plain": [
       "unquantize (generic function with 1 method)"
      ]
     },
     "execution_count": 2,
     "metadata": {},
     "output_type": "execute_result"
    }
   ],
   "source": [
    "q_table = [ 16  11  10  16  24  40  51  61;\n",
    "            12  12  14  19  26  58  60  55;\n",
    "            14  13  16  24  40  57  69  56;\n",
    "            14  17  22  29  51  87  80  62;\n",
    "            18  22  37  56  68 109 103  77;\n",
    "            24  35  55  64  81 104 113  92;\n",
    "            49  64  78  87 103 121 120 101;\n",
    "            72  92  95  98 112 100 103  99 ]\n",
    "\n",
    "q_factor = 4\n",
    "\n",
    "function quantize(S)\n",
    "    Int16.(round.(S ./ q_table ./ q_factor))\n",
    "end\n",
    "\n",
    "function unquantize(S)\n",
    "    S .* q_table .* q_factor\n",
    "end"
   ]
  },
  {
   "cell_type": "code",
   "execution_count": 3,
   "metadata": {
    "scrolled": true
   },
   "outputs": [],
   "source": [
    "struct ZigZagIter\n",
    "    xs\n",
    "end\n",
    "\n",
    "function Base.iterate(it :: ZigZagIter)\n",
    "    (it.xs[1, 1], (1,2,:downleft))\n",
    "end\n",
    "\n",
    "function Base.iterate(it :: ZigZagIter, (i, j, s))\n",
    "    if (i, j) > size(it.xs)\n",
    "        return nothing\n",
    "    end\n",
    "    \n",
    "    ii = i\n",
    "    jj = j\n",
    "    ss = s\n",
    "    \n",
    "    if s == :downleft\n",
    "        if i == size(it.xs)[1]\n",
    "            jj = j + 1\n",
    "            ss = :upright\n",
    "        elseif j == 1\n",
    "            ii = i + 1\n",
    "            ss = :upright\n",
    "        else\n",
    "            ii = i + 1\n",
    "            jj = j - 1\n",
    "        end\n",
    "    elseif s == :upright\n",
    "        if j == size(it.xs)[2]\n",
    "            ii = i + 1\n",
    "            ss = :downleft\n",
    "        elseif i == 1\n",
    "            jj = j + 1\n",
    "            ss = :downleft\n",
    "        else\n",
    "            ii = i - 1\n",
    "            jj = j + 1\n",
    "        end\n",
    "    end\n",
    "    \n",
    "    (it.xs[i, j], (ii, jj, ss))\n",
    "end\n",
    "\n",
    "function Base.length(it :: ZigZagIter)\n",
    "    length(it.xs)\n",
    "end"
   ]
  },
  {
   "cell_type": "code",
   "execution_count": 4,
   "metadata": {},
   "outputs": [
    {
     "data": {
      "text/plain": [
       "runlength_encode (generic function with 1 method)"
      ]
     },
     "execution_count": 4,
     "metadata": {},
     "output_type": "execute_result"
    }
   ],
   "source": [
    "function runlength_encode(S)\n",
    "    num = 0    \n",
    "    out = []\n",
    "    \n",
    "    for x = Iterators.drop(ZigZagIter(S), 1)\n",
    "        if x == 0\n",
    "            num += 1\n",
    "        else\n",
    "            while num > 15\n",
    "                num -= 16\n",
    "                push!(out, :zrl)\n",
    "            end\n",
    "            push!(out, (num, x))            \n",
    "            num = 0\n",
    "        end\n",
    "    end\n",
    "    \n",
    "    if num != 0\n",
    "        push!(out, :eob)\n",
    "    end\n",
    "    \n",
    "    S[1,1], out\n",
    "end"
   ]
  },
  {
   "cell_type": "code",
   "execution_count": 5,
   "metadata": {
    "scrolled": false
   },
   "outputs": [
    {
     "data": {
      "text/plain": [
       "12-element Array{Array{Int64,1},1}:\n",
       " [0, 0]\n",
       " [0, 1, 0]\n",
       " [0, 1, 1]\n",
       " [1, 0, 0]\n",
       " [1, 0, 1]\n",
       " [1, 1, 0]\n",
       " [1, 1, 1, 0]\n",
       " [1, 1, 1, 1, 0]\n",
       " [1, 1, 1, 1, 1, 0]\n",
       " [1, 1, 1, 1, 1, 1, 0]\n",
       " [1, 1, 1, 1, 1, 1, 1, 0]\n",
       " [1, 1, 1, 1, 1, 1, 1, 1, 0]"
      ]
     },
     "execution_count": 5,
     "metadata": {},
     "output_type": "execute_result"
    }
   ],
   "source": [
    "ac_eob = [1, 0, 1, 0]\n",
    "\n",
    "ac_zrl = [1, 1, 1, 1, 1, 1, 1, 1, 0, 0, 1]\n",
    "\n",
    "ac_lens = [\n",
    "    2  2  3  4  5  7  8  10 16 16;\n",
    "    4  5  7  9  11 16 16 16 16 16;\n",
    "    5  8  10 12 16 16 16 16 16 16; \n",
    "    6  9  12 16 16 16 16 16 16 16; \n",
    "    6  10 16 16 16 16 16 16 16 16; \n",
    "    7  11 16 16 16 16 16 16 16 16; \n",
    "    7  12 16 16 16 16 16 16 16 16; \n",
    "    8  12 16 16 16 16 16 16 16 16; \n",
    "    9  15 16 16 16 16 16 16 16 16; \n",
    "    9  16 16 16 16 16 16 16 16 16; \n",
    "    9  16 16 16 16 16 16 16 16 16; \n",
    "    10 16 16 16 16 16 16 16 16 16; \n",
    "    10 16 16 16 16 16 16 16 16 16; \n",
    "    11 16 16 16 16 16 16 16 16 16; \n",
    "    16 16 16 16 16 16 16 16 16 16; \n",
    "    16 16 16 16 16 16 16 16 16 16;\n",
    "]\n",
    "\n",
    "ac_codes = [\n",
    "    0x0000 0x0001 0x0004 0x000b 0x001a 0x0078 0x00f8 0x03f6 0xff82 0xff83;\n",
    "    0x000c 0x001b 0x0079 0x01f6 0x07f6 0xff84 0xff85 0xff86 0xff87 0xff88;\n",
    "    0x001c 0x00f9 0x03f7 0x0ff4 0xff89 0xff8a 0xff8b 0xff8c 0xff8d 0xff8e;\n",
    "    0x003a 0x01f7 0x0ff5 0xff8f 0xff90 0xff91 0xff92 0xff93 0xff94 0xff95;\n",
    "    0x003b 0x03f8 0xff96 0xff97 0xff98 0xff99 0xff9a 0xff9b 0xff9c 0xff9d;\n",
    "    0x007a 0x07f7 0xff9e 0xff9f 0xffa0 0xffa1 0xffa2 0xffa3 0xffa4 0xffa5;\n",
    "    0x007b 0x0ff6 0xffa6 0xffa7 0xffa8 0xffa9 0xffaa 0xffab 0xffac 0xffad;\n",
    "    0x00fa 0x0ff7 0xffae 0xffaf 0xffb0 0xffb1 0xffb2 0xffb3 0xffb4 0xffb5;\n",
    "    0x01f8 0x7fc0 0xffb6 0xffb7 0xffb8 0xffb9 0xffba 0xffbb 0xffbc 0xffbd;\n",
    "    0x01f9 0xffbe 0xffbf 0xffc0 0xffc1 0xffc2 0xffc3 0xffc4 0xffc5 0xffc6;\n",
    "    0x01fa 0xffc7 0xffc8 0xffc9 0xffca 0xffcb 0xffcc 0xffcd 0xffce 0xffcf;\n",
    "    0x03f9 0xffd0 0xffd1 0xffd2 0xffd3 0xffd4 0xffd5 0xffd6 0xffd7 0xffd8;\n",
    "    0x03fa 0xffd9 0xffda 0xffdb 0xffdc 0xffdd 0xffde 0xffdf 0xffe0 0xffe1;\n",
    "    0x07f8 0xffe2 0xffe3 0xffe4 0xffe5 0xffe6 0xffe7 0xffe8 0xffe9 0xffea;\n",
    "    0xffeb 0xffec 0xffed 0xffee 0xffef 0xfff0 0xfff1 0xfff2 0xfff3 0xfff4;\n",
    "    0xfff5 0xfff6 0xfff7 0xfff8 0xfff9 0xfffa 0xfffb 0xfffc 0xfffd 0xfffe;\n",
    "]\n",
    "\n",
    "# column = size, row = run\n",
    "ac_words = [digits(code, base=2, pad=len) |> reverse for (len, code) = zip(ac_lens, ac_codes)]\n",
    "\n",
    "# code word for each dc difference category\n",
    "dc_words = [\n",
    "    [0, 0],\n",
    "    [0, 1, 0],\n",
    "    [0, 1, 1],\n",
    "    [1, 0, 0],\n",
    "    [1, 0, 1],\n",
    "    [1, 1, 0],\n",
    "    [1, 1, 1, 0],\n",
    "    [1, 1, 1, 1, 0],\n",
    "    [1, 1, 1, 1, 1, 0],\n",
    "    [1, 1, 1, 1, 1, 1, 0],\n",
    "    [1, 1, 1, 1, 1, 1, 1, 0],\n",
    "    [1, 1, 1, 1, 1, 1, 1, 1, 0]\n",
    "]"
   ]
  },
  {
   "cell_type": "code",
   "execution_count": 6,
   "metadata": {
    "scrolled": false
   },
   "outputs": [
    {
     "data": {
      "text/plain": [
       "huffman_encode (generic function with 1 method)"
      ]
     },
     "execution_count": 6,
     "metadata": {},
     "output_type": "execute_result"
    }
   ],
   "source": [
    "function ones_encode(n)\n",
    "    s = 0\n",
    "    if n < 0\n",
    "        n = -n\n",
    "        s = 1\n",
    "    end\n",
    "    \n",
    "    BitArray(xor.(s, digits(n, base=2) |> reverse))\n",
    "end\n",
    "\n",
    "function huffman_encode(previous_dc, dc, acs, output)\n",
    "    dc_diff = ones_encode(dc - previous_dc)\n",
    "    append!(output, dc_words[length(dc_diff) + 1])\n",
    "    append!(output, dc_diff)\n",
    "    \n",
    "    for symbol = acs\n",
    "        if symbol == :zrl\n",
    "            append!(output, ac_zrl)\n",
    "        elseif symbol == :eob\n",
    "            append!(output, ac_eob)\n",
    "        else\n",
    "            run, value = symbol\n",
    "            bits = ones_encode(value)\n",
    "            append!(output, ac_words[run + 1, length(bits)])\n",
    "            append!(output, bits)\n",
    "        end\n",
    "    end\n",
    "end"
   ]
  },
  {
   "cell_type": "code",
   "execution_count": 7,
   "metadata": {
    "scrolled": true
   },
   "outputs": [
    {
     "data": {
      "text/plain": [
       "img_from_blocks (generic function with 1 method)"
      ]
     },
     "execution_count": 7,
     "metadata": {},
     "output_type": "execute_result"
    }
   ],
   "source": [
    "function img_blocks(i)\n",
    "    ys, xs = size(i)\n",
    "    [@view i[y:y+7, x:x+7] for y=1:8:ys, x=1:8:xs]\n",
    "end\n",
    "\n",
    "function img_from_blocks(bs)\n",
    "    sz = size(bs)\n",
    "    r = zeros(sz .* 8)\n",
    "    for j=1:sz[2]\n",
    "        for i=1:sz[1]\n",
    "            r[i*8-7:i*8,j*8-7:j*8] = bs[i,j]\n",
    "        end\n",
    "    end\n",
    "    r\n",
    "end"
   ]
  },
  {
   "cell_type": "code",
   "execution_count": 8,
   "metadata": {},
   "outputs": [
    {
     "data": {
      "text/plain": [
       "encode_img (generic function with 1 method)"
      ]
     },
     "execution_count": 8,
     "metadata": {},
     "output_type": "execute_result"
    }
   ],
   "source": [
    "pows_2 = UInt8(2) .^ collect(7:-1:0)\n",
    "function bits_to_byte(bits)\n",
    "    UInt8(sum(pows_2[bits]))\n",
    "end\n",
    "\n",
    "function encode_img(img)\n",
    "    blocks = img_blocks(img)\n",
    "    processed_blocks = runlength_encode.(quantize.(dct2.(blocks)))\n",
    "    \n",
    "    out = BitArray([])\n",
    "    prev_dc = 0\n",
    "    for row = eachrow(processed_blocks)\n",
    "        for (dc, acs) = row\n",
    "            huffman_encode(prev_dc, dc, acs, out)\n",
    "            prev_dc = dc\n",
    "        end\n",
    "    end\n",
    "    \n",
    "    if length(out) % 8 != 0\n",
    "        append!(out, repeat([0], 8 - length(out) % 8))\n",
    "    end\n",
    "    \n",
    "    bytes = []\n",
    "    for i=1:8:length(out)\n",
    "        push!(bytes, bits_to_byte(out[i:i+7]))\n",
    "    end\n",
    "    \n",
    "    bytes\n",
    "end"
   ]
  },
  {
   "cell_type": "code",
   "execution_count": 9,
   "metadata": {
    "scrolled": false
   },
   "outputs": [
    {
     "data": {
      "text/plain": [
       "uncompressed_bytes (generic function with 1 method)"
      ]
     },
     "execution_count": 9,
     "metadata": {},
     "output_type": "execute_result"
    }
   ],
   "source": [
    "function uncompressed_bytes(i)\n",
    "    vec(UInt8.(i * 255))\n",
    "end"
   ]
  },
  {
   "cell_type": "code",
   "execution_count": 10,
   "metadata": {
    "scrolled": false
   },
   "outputs": [
    {
     "data": {
      "image/png": "[encoded data removed]",
      "text/plain": [
       "256×512 Array{Gray{N0f8},2} with eltype Gray{Normed{UInt8,8}}:\n",
       " Gray{N0f8}(0.957)  Gray{N0f8}(0.957)  …  Gray{N0f8}(0.843)\n",
       " Gray{N0f8}(0.957)  Gray{N0f8}(0.957)     Gray{N0f8}(0.847)\n",
       " Gray{N0f8}(0.957)  Gray{N0f8}(0.957)     Gray{N0f8}(0.855)\n",
       " Gray{N0f8}(0.957)  Gray{N0f8}(0.957)     Gray{N0f8}(0.859)\n",
       " Gray{N0f8}(0.957)  Gray{N0f8}(0.957)     Gray{N0f8}(0.863)\n",
       " Gray{N0f8}(0.957)  Gray{N0f8}(0.957)  …  Gray{N0f8}(0.859)\n",
       " Gray{N0f8}(0.957)  Gray{N0f8}(0.957)     Gray{N0f8}(0.859)\n",
       " Gray{N0f8}(0.957)  Gray{N0f8}(0.957)     Gray{N0f8}(0.855)\n",
       " Gray{N0f8}(0.957)  Gray{N0f8}(0.957)     Gray{N0f8}(0.863)\n",
       " Gray{N0f8}(0.957)  Gray{N0f8}(0.957)     Gray{N0f8}(0.863)\n",
       " Gray{N0f8}(0.957)  Gray{N0f8}(0.957)  …  Gray{N0f8}(0.863)\n",
       " Gray{N0f8}(0.957)  Gray{N0f8}(0.957)     Gray{N0f8}(0.867)\n",
       " Gray{N0f8}(0.957)  Gray{N0f8}(0.957)     Gray{N0f8}(0.867)\n",
       " ⋮                                     ⋱  \n",
       " Gray{N0f8}(0.302)  Gray{N0f8}(0.318)     Gray{N0f8}(0.2)\n",
       " Gray{N0f8}(0.286)  Gray{N0f8}(0.318)  …  Gray{N0f8}(0.196)\n",
       " Gray{N0f8}(0.29)   Gray{N0f8}(0.298)     Gray{N0f8}(0.192)\n",
       " Gray{N0f8}(0.459)  Gray{N0f8}(0.463)     Gray{N0f8}(0.188)\n",
       " Gray{N0f8}(0.867)  Gray{N0f8}(0.937)     Gray{N0f8}(0.157)\n",
       " Gray{N0f8}(0.733)  Gray{N0f8}(0.702)     Gray{N0f8}(0.157)\n",
       " Gray{N0f8}(0.624)  Gray{N0f8}(0.565)  …  Gray{N0f8}(0.161)\n",
       " Gray{N0f8}(0.882)  Gray{N0f8}(0.875)     Gray{N0f8}(0.165)\n",
       " Gray{N0f8}(0.694)  Gray{N0f8}(0.722)     Gray{N0f8}(0.165)\n",
       " Gray{N0f8}(0.698)  Gray{N0f8}(0.678)     Gray{N0f8}(0.161)\n",
       " Gray{N0f8}(0.733)  Gray{N0f8}(0.682)     Gray{N0f8}(0.157)\n",
       " Gray{N0f8}(0.698)  Gray{N0f8}(0.671)  …  Gray{N0f8}(0.157)"
      ]
     },
     "execution_count": 10,
     "metadata": {},
     "output_type": "execute_result"
    }
   ],
   "source": [
    "using Images, FileIO\n",
    "orig_img = load(download(\"https://www.ubc.ca/_assets/img/about-ubc/about_ubc-1200x438.jpg\"))\n",
    "orig_img = Gray.(orig_img[33:32+256, 33:32+512])"
   ]
  },
  {
   "cell_type": "code",
   "execution_count": 11,
   "metadata": {},
   "outputs": [
    {
     "name": "stdout",
     "output_type": "stream",
     "text": [
      "Uncompressed size: 131072\n"
     ]
    }
   ],
   "source": [
    "uncompressed = uncompressed_bytes(orig_img)\n",
    "uncompressed_size = length(uncompressed)\n",
    "println(\"Uncompressed size: $uncompressed_size\")"
   ]
  },
  {
   "cell_type": "code",
   "execution_count": 12,
   "metadata": {
    "scrolled": true
   },
   "outputs": [
    {
     "name": "stdout",
     "output_type": "stream",
     "text": [
      "Compressed size: 5375\n"
     ]
    }
   ],
   "source": [
    "compressed = encode_img(orig_img)\n",
    "compressed_size = length(compressed)\n",
    "println(\"Compressed size: $compressed_size\")"
   ]
  }
 ],
 "metadata": {
  "kernelspec": {
   "display_name": "Julia 1.5.3",
   "language": "julia",
   "name": "julia-1.5"
  },
  "language_info": {
   "file_extension": ".jl",
   "mimetype": "application/julia",
   "name": "julia",
   "version": "1.5.3"
  }
 },
 "nbformat": 4,
 "nbformat_minor": 4
}
